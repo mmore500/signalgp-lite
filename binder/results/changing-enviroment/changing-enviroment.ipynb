{
 "cells": [
  {
   "cell_type": "code",
   "execution_count": null,
   "metadata": {},
   "outputs": [],
   "source": [
    "import pandas as pd\n",
    "import matplotlib.pyplot as plt\n",
    "import seaborn as sns\n",
    "from teeplot import teeplot as tp\n",
    "import numpy as np"
   ]
  },
  {
   "cell_type": "markdown",
   "metadata": {},
   "source": [
    "# get data"
   ]
  },
  {
   "cell_type": "code",
   "execution_count": null,
   "metadata": {},
   "outputs": [],
   "source": [
    "df2 = pd.read_csv(\"86bf42/K2/concat=100+replicate=1-100+ext=.csv\")\n",
    "df4 = pd.read_csv(\"86bf42/K4/concat=100+replicate=1-100+ext=.csv\")\n",
    "df8 = pd.read_csv(\"86bf42/K8/concat=100+replicate=1-100+ext=.csv\")\n",
    "df16 = pd.read_csv(\"86bf42/K16/concat=100+replicate=1-100+ext=.csv\")\n",
    "\n"
   ]
  },
  {
   "cell_type": "markdown",
   "metadata": {},
   "source": [
    "# preprocess data"
   ]
  },
  {
   "cell_type": "code",
   "execution_count": null,
   "metadata": {},
   "outputs": [],
   "source": [
    "df2[\"k\"] = 2\n",
    "df4[\"k\"] = 4\n",
    "df8[\"k\"] = 8\n",
    "df16[\"k\"] = 16\n",
    "\n",
    "df = pd.concat([df2, df4, df8, df16])"
   ]
  },
  {
   "cell_type": "markdown",
   "metadata": {},
   "source": [
    "# define teeplot functions"
   ]
  },
  {
   "cell_type": "code",
   "execution_count": null,
   "metadata": {},
   "outputs": [],
   "source": [
    "def logx_lineplot(*args, **kwargs):\n",
    "    g = sns.lineplot(\n",
    "        *args,\n",
    "        **kwargs\n",
    "    )\n",
    "    g.set_xscale(\"log\")\n",
    "    plt.axhline(256, c=\"grey\", linestyle=\"dotted\", zorder=-1)\n",
    "    y = np.array([16*i for i in range(17)])\n",
    "    plt.yticks(y)\n",
    "    # todo: change names here"
   ]
  },
  {
   "cell_type": "markdown",
   "metadata": {},
   "source": [
    "# fitness over time"
   ]
  },
  {
   "cell_type": "markdown",
   "metadata": {},
   "source": [
    "## process data"
   ]
  },
  {
   "cell_type": "code",
   "execution_count": null,
   "metadata": {},
   "outputs": [],
   "source": [
    "new_rows = []\n",
    "for (replicate, k), filtered in df.groupby([\"replicate\", \"k\"]):\n",
    "    max_update = filtered[\"update\"].max()\n",
    "\n",
    "    for update in range(max_update, 10000):\n",
    "        new_rows.append({\n",
    "            \"update\": update,\n",
    "            \"max_fitness\": 256,\n",
    "            \"replicate\": replicate,\n",
    "            \"k\": k\n",
    "        })\n",
    "\n",
    "df = df.append(new_rows)\n",
    "df"
   ]
  },
  {
   "cell_type": "markdown",
   "metadata": {},
   "source": [
    "## graph results (ci: SD)"
   ]
  },
  {
   "cell_type": "code",
   "execution_count": null,
   "metadata": {},
   "outputs": [],
   "source": [
    "tp.tee(\n",
    "    logx_lineplot,\n",
    "    data=df,\n",
    "    x=\"update\",\n",
    "    y=\"max_fitness\",\n",
    "    hue=\"k\",\n",
    "    ci=\"sd\"\n",
    ")"
   ]
  },
  {
   "cell_type": "markdown",
   "metadata": {},
   "source": [
    "## graph results (ci: 95%)"
   ]
  },
  {
   "cell_type": "code",
   "execution_count": null,
   "metadata": {},
   "outputs": [],
   "source": [
    "data = df[np.log2(df[\"update\"]+1) % 1.0 < 0.0001]\n",
    "len(data)"
   ]
  },
  {
   "cell_type": "code",
   "execution_count": null,
   "metadata": {},
   "outputs": [],
   "source": [
    "tp.tee(\n",
    "    logx_lineplot,\n",
    "    data=data,\n",
    "    x=\"update\",\n",
    "    y=\"max_fitness\",\n",
    "    hue=\"k\"\n",
    ")"
   ]
  },
  {
   "cell_type": "markdown",
   "metadata": {},
   "source": [
    "# time to solution over number of states (k)"
   ]
  },
  {
   "cell_type": "markdown",
   "metadata": {},
   "source": [
    "### process data"
   ]
  },
  {
   "cell_type": "code",
   "execution_count": null,
   "metadata": {},
   "outputs": [],
   "source": [
    "box_df = df[df[\"max_fitness\"] == 256]\n",
    "\n",
    "res_df = []\n",
    "for (replicate, k), filtered in box_df.groupby([\"replicate\", \"k\"]):\n",
    "    sol_time = filtered[\"update\"].min()\n",
    "\n",
    "    res_df.append({\n",
    "        \"solution_time\": sol_time,\n",
    "        \"replicate\": replicate,\n",
    "        \"k\": k\n",
    "    })\n",
    "\n",
    "res_df = df.from_records(res_df)"
   ]
  },
  {
   "cell_type": "markdown",
   "metadata": {},
   "source": [
    "### graph"
   ]
  },
  {
   "cell_type": "code",
   "execution_count": null,
   "metadata": {},
   "outputs": [],
   "source": [
    "tp.tee(\n",
    "    sns.boxplot,\n",
    "    data=res_df,\n",
    "    y=\"solution_time\",\n",
    "    x=\"k\"\n",
    ")"
   ]
  },
  {
   "cell_type": "markdown",
   "metadata": {},
   "source": [
    "## time to solution (swarm plot)"
   ]
  },
  {
   "cell_type": "code",
   "execution_count": null,
   "metadata": {},
   "outputs": [],
   "source": [
    "def tee_swarmplot(*args, **kwargs):\n",
    "    sns.swarmplot(\n",
    "        linewidth=0.5,\n",
    "        s=4,\n",
    "        edgecolor='white',\n",
    "        *args,\n",
    "        **kwargs\n",
    "    )\n",
    "    sns.boxplot(\n",
    "        *args,\n",
    "        **kwargs\n",
    "    )"
   ]
  },
  {
   "cell_type": "code",
   "execution_count": null,
   "metadata": {},
   "outputs": [],
   "source": [
    "tp.tee(\n",
    "    tee_swarmplot,\n",
    "    data=res_df,\n",
    "    x=\"k\",\n",
    "    y=\"solution_time\"\n",
    ")"
   ]
  }
 ],
 "metadata": {
  "kernelspec": {
   "display_name": "Python 3",
   "language": "python",
   "name": "python3"
  },
  "language_info": {
   "codemirror_mode": {
    "name": "ipython",
    "version": 3
   },
   "file_extension": ".py",
   "mimetype": "text/x-python",
   "name": "python",
   "nbconvert_exporter": "python",
   "pygments_lexer": "ipython3",
   "version": "3.9.4"
  }
 },
 "nbformat": 4,
 "nbformat_minor": 4
}
