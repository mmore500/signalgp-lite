{
 "cells": [
  {
   "cell_type": "code",
   "execution_count": 1,
   "metadata": {},
   "outputs": [],
   "source": [
    "import pandas as pd\n",
    "import matplotlib.pyplot as plt\n",
    "import seaborn as sns\n",
    "from teeplot import teeplot as tp\n",
    "import numpy as np"
   ]
  },
  {
   "cell_type": "markdown",
   "metadata": {},
   "source": [
    "# get data"
   ]
  },
  {
   "cell_type": "code",
   "execution_count": 2,
   "metadata": {},
   "outputs": [],
   "source": [
    "df2 = pd.read_csv(\"data/K2/concat=100+replicate=1-100+ext=.csv\")\n",
    "df4 = pd.read_csv(\"data/K4/concat=100+replicate=1-100+ext=.csv\")\n",
    "df8 = pd.read_csv(\"data/K8/concat=100+replicate=1-100+ext=.csv\")"
   ]
  },
  {
   "cell_type": "markdown",
   "metadata": {},
   "source": [
    "# preprocess data"
   ]
  },
  {
   "cell_type": "code",
   "execution_count": 3,
   "metadata": {},
   "outputs": [],
   "source": [
    "df2[\"k\"] = 2\n",
    "df4[\"k\"] = 4\n",
    "df8[\"k\"] = 8\n",
    "\n",
    "df = pd.concat([df2, df4, df8])"
   ]
  },
  {
   "cell_type": "markdown",
   "metadata": {},
   "source": [
    "# define teeplot functions"
   ]
  },
  {
   "cell_type": "code",
   "execution_count": 4,
   "metadata": {},
   "outputs": [],
   "source": [
    "def logx_lineplot(*args, **kwargs):\n",
    "    g = sns.lineplot(\n",
    "        *args,\n",
    "        **kwargs\n",
    "    )\n",
    "    g.set_xscale(\"log\")\n",
    "    plt.axhline(256, c=\"grey\", linestyle=\"dotted\", zorder=-1)\n",
    "    y = np.array([16*i for i in range(17)])\n",
    "    plt.yticks(y)\n",
    "    # todo: change names here"
   ]
  },
  {
   "cell_type": "markdown",
   "metadata": {},
   "source": [
    "# fitness over time"
   ]
  },
  {
   "cell_type": "markdown",
   "metadata": {},
   "source": [
    "## process data"
   ]
  },
  {
   "cell_type": "code",
   "execution_count": 5,
   "metadata": {},
   "outputs": [
    {
     "data": {
      "text/html": [
       "<div>\n",
       "<style scoped>\n",
       "    .dataframe tbody tr th:only-of-type {\n",
       "        vertical-align: middle;\n",
       "    }\n",
       "\n",
       "    .dataframe tbody tr th {\n",
       "        vertical-align: top;\n",
       "    }\n",
       "\n",
       "    .dataframe thead th {\n",
       "        text-align: right;\n",
       "    }\n",
       "</style>\n",
       "<table border=\"1\" class=\"dataframe\">\n",
       "  <thead>\n",
       "    <tr style=\"text-align: right;\">\n",
       "      <th></th>\n",
       "      <th>update</th>\n",
       "      <th>mean_fitness</th>\n",
       "      <th>min_fitness</th>\n",
       "      <th>max_fitness</th>\n",
       "      <th>inferiority</th>\n",
       "      <th>replicate</th>\n",
       "      <th>k</th>\n",
       "    </tr>\n",
       "  </thead>\n",
       "  <tbody>\n",
       "    <tr>\n",
       "      <th>0</th>\n",
       "      <td>0</td>\n",
       "      <td>46.316</td>\n",
       "      <td>0.0</td>\n",
       "      <td>256</td>\n",
       "      <td>0.180922</td>\n",
       "      <td>100</td>\n",
       "      <td>2</td>\n",
       "    </tr>\n",
       "    <tr>\n",
       "      <th>1</th>\n",
       "      <td>0</td>\n",
       "      <td>45.954</td>\n",
       "      <td>0.0</td>\n",
       "      <td>256</td>\n",
       "      <td>0.179508</td>\n",
       "      <td>10</td>\n",
       "      <td>2</td>\n",
       "    </tr>\n",
       "    <tr>\n",
       "      <th>2</th>\n",
       "      <td>0</td>\n",
       "      <td>47.909</td>\n",
       "      <td>0.0</td>\n",
       "      <td>256</td>\n",
       "      <td>0.187145</td>\n",
       "      <td>11</td>\n",
       "      <td>2</td>\n",
       "    </tr>\n",
       "    <tr>\n",
       "      <th>3</th>\n",
       "      <td>0</td>\n",
       "      <td>47.056</td>\n",
       "      <td>0.0</td>\n",
       "      <td>256</td>\n",
       "      <td>0.183812</td>\n",
       "      <td>12</td>\n",
       "      <td>2</td>\n",
       "    </tr>\n",
       "    <tr>\n",
       "      <th>4</th>\n",
       "      <td>0</td>\n",
       "      <td>47.067</td>\n",
       "      <td>0.0</td>\n",
       "      <td>256</td>\n",
       "      <td>0.183855</td>\n",
       "      <td>13</td>\n",
       "      <td>2</td>\n",
       "    </tr>\n",
       "    <tr>\n",
       "      <th>...</th>\n",
       "      <td>...</td>\n",
       "      <td>...</td>\n",
       "      <td>...</td>\n",
       "      <td>...</td>\n",
       "      <td>...</td>\n",
       "      <td>...</td>\n",
       "      <td>...</td>\n",
       "    </tr>\n",
       "    <tr>\n",
       "      <th>2959798</th>\n",
       "      <td>9995</td>\n",
       "      <td>NaN</td>\n",
       "      <td>NaN</td>\n",
       "      <td>256</td>\n",
       "      <td>NaN</td>\n",
       "      <td>100</td>\n",
       "      <td>8</td>\n",
       "    </tr>\n",
       "    <tr>\n",
       "      <th>2959799</th>\n",
       "      <td>9996</td>\n",
       "      <td>NaN</td>\n",
       "      <td>NaN</td>\n",
       "      <td>256</td>\n",
       "      <td>NaN</td>\n",
       "      <td>100</td>\n",
       "      <td>8</td>\n",
       "    </tr>\n",
       "    <tr>\n",
       "      <th>2959800</th>\n",
       "      <td>9997</td>\n",
       "      <td>NaN</td>\n",
       "      <td>NaN</td>\n",
       "      <td>256</td>\n",
       "      <td>NaN</td>\n",
       "      <td>100</td>\n",
       "      <td>8</td>\n",
       "    </tr>\n",
       "    <tr>\n",
       "      <th>2959801</th>\n",
       "      <td>9998</td>\n",
       "      <td>NaN</td>\n",
       "      <td>NaN</td>\n",
       "      <td>256</td>\n",
       "      <td>NaN</td>\n",
       "      <td>100</td>\n",
       "      <td>8</td>\n",
       "    </tr>\n",
       "    <tr>\n",
       "      <th>2959802</th>\n",
       "      <td>9999</td>\n",
       "      <td>NaN</td>\n",
       "      <td>NaN</td>\n",
       "      <td>256</td>\n",
       "      <td>NaN</td>\n",
       "      <td>100</td>\n",
       "      <td>8</td>\n",
       "    </tr>\n",
       "  </tbody>\n",
       "</table>\n",
       "<p>3000300 rows × 7 columns</p>\n",
       "</div>"
      ],
      "text/plain": [
       "         update  mean_fitness  min_fitness  max_fitness  inferiority  \\\n",
       "0             0        46.316          0.0          256     0.180922   \n",
       "1             0        45.954          0.0          256     0.179508   \n",
       "2             0        47.909          0.0          256     0.187145   \n",
       "3             0        47.056          0.0          256     0.183812   \n",
       "4             0        47.067          0.0          256     0.183855   \n",
       "...         ...           ...          ...          ...          ...   \n",
       "2959798    9995           NaN          NaN          256          NaN   \n",
       "2959799    9996           NaN          NaN          256          NaN   \n",
       "2959800    9997           NaN          NaN          256          NaN   \n",
       "2959801    9998           NaN          NaN          256          NaN   \n",
       "2959802    9999           NaN          NaN          256          NaN   \n",
       "\n",
       "         replicate  k  \n",
       "0              100  2  \n",
       "1               10  2  \n",
       "2               11  2  \n",
       "3               12  2  \n",
       "4               13  2  \n",
       "...            ... ..  \n",
       "2959798        100  8  \n",
       "2959799        100  8  \n",
       "2959800        100  8  \n",
       "2959801        100  8  \n",
       "2959802        100  8  \n",
       "\n",
       "[3000300 rows x 7 columns]"
      ]
     },
     "execution_count": 5,
     "metadata": {},
     "output_type": "execute_result"
    }
   ],
   "source": [
    "new_rows = []\n",
    "for (replicate, k), filtered in df.groupby([\"replicate\", \"k\"]):    \n",
    "    max_update = filtered[\"update\"].max()\n",
    "\n",
    "    for update in range(max_update, 10000):\n",
    "        new_rows.append({\n",
    "            \"update\": update,\n",
    "            \"max_fitness\": 256,\n",
    "            \"replicate\": replicate,\n",
    "            \"k\": k\n",
    "        }) \n",
    "        \n",
    "df = df.append(new_rows)\n",
    "df"
   ]
  },
  {
   "cell_type": "markdown",
   "metadata": {},
   "source": [
    "## graph results"
   ]
  },
  {
   "cell_type": "code",
   "execution_count": 6,
   "metadata": {},
   "outputs": [
    {
     "name": "stdout",
     "output_type": "stream",
     "text": [
      "teeplots/ci=sd+hue=k+viz=logx-lineplot+x=update+y=max-fitness+ext=.pdf\n",
      "teeplots/ci=sd+hue=k+viz=logx-lineplot+x=update+y=max-fitness+ext=.png\n"
     ]
    },
    {
     "data": {
      "image/png": "[encoded data removed]",
      "text/plain": [
       "<Figure size 432x288 with 1 Axes>"
      ]
     },
     "metadata": {
      "needs_background": "light"
     },
     "output_type": "display_data"
    }
   ],
   "source": [
    "tp.tee(\n",
    "    logx_lineplot,\n",
    "    data=df,\n",
    "    x=\"update\",\n",
    "    y=\"max_fitness\",\n",
    "    hue=\"k\",\n",
    "    ci=\"sd\"\n",
    ")"
   ]
  },
  {
   "cell_type": "markdown",
   "metadata": {},
   "source": [
    "# time to solution over number of states (k)"
   ]
  },
  {
   "cell_type": "markdown",
   "metadata": {},
   "source": [
    "### process data"
   ]
  },
  {
   "cell_type": "code",
   "execution_count": 7,
   "metadata": {},
   "outputs": [],
   "source": [
    "box_df = df[df[\"max_fitness\"] == 256]\n",
    "\n",
    "res_df = []\n",
    "for (replicate, k), filtered in box_df.groupby([\"replicate\", \"k\"]):\n",
    "    sol_time = filtered[\"update\"].min()\n",
    "    \n",
    "    res_df.append({\n",
    "        \"solution_time\": sol_time,\n",
    "        \"replicate\": replicate,\n",
    "        \"k\": k\n",
    "    })\n",
    "    \n",
    "res_df = df.from_records(res_df)"
   ]
  },
  {
   "cell_type": "markdown",
   "metadata": {},
   "source": [
    "### graph"
   ]
  },
  {
   "cell_type": "code",
   "execution_count": 8,
   "metadata": {},
   "outputs": [
    {
     "name": "stdout",
     "output_type": "stream",
     "text": [
      "teeplots/viz=boxplot+x=k+y=solution-time+ext=.pdf\n",
      "teeplots/viz=boxplot+x=k+y=solution-time+ext=.png\n"
     ]
    },
    {
     "data": {
      "text/plain": [
       "<AxesSubplot:xlabel='k', ylabel='solution_time'>"
      ]
     },
     "execution_count": 8,
     "metadata": {},
     "output_type": "execute_result"
    },
    {
     "data": {
      "image/png": "[encoded data removed]",
      "text/plain": [
       "<Figure size 432x288 with 1 Axes>"
      ]
     },
     "metadata": {
      "needs_background": "light"
     },
     "output_type": "display_data"
    }
   ],
   "source": [
    "tp.tee(\n",
    "    sns.boxplot,\n",
    "    data=res_df,\n",
    "    y=\"solution_time\",\n",
    "    x=\"k\"\n",
    ")"
   ]
  },
  {
   "cell_type": "code",
   "execution_count": null,
   "metadata": {},
   "outputs": [],
   "source": []
  }
 ],
 "metadata": {
  "kernelspec": {
   "display_name": "Python 3",
   "language": "python",
   "name": "python3"
  },
  "language_info": {
   "codemirror_mode": {
    "name": "ipython",
    "version": 3
   },
   "file_extension": ".py",
   "mimetype": "text/x-python",
   "name": "python",
   "nbconvert_exporter": "python",
   "pygments_lexer": "ipython3",
   "version": "3.9.4"
  }
 },
 "nbformat": 4,
 "nbformat_minor": 4
}
