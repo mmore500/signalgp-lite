{
 "cells": [
  {
   "cell_type": "code",
   "execution_count": 16,
   "id": "cc6c395b",
   "metadata": {},
   "outputs": [],
   "source": [
    "import pandas as pd\n",
    "import matplotlib.pyplot as plt\n",
    "import seaborn as sns\n",
    "import numpy as np"
   ]
  },
  {
   "cell_type": "code",
   "execution_count": 2,
   "id": "517936b6",
   "metadata": {},
   "outputs": [],
   "source": [
    "df2 = pd.read_csv(\"K2/concat=100+replicate=1-100+ext=.csv\")\n",
    "df2[\"k\"] = 2\n",
    "df4 = pd.read_csv(\"K4/concat=100+replicate=1-100+ext=.csv\")\n",
    "df4[\"k\"] = 4\n",
    "df8 = pd.read_csv(\"K8/concat=100+replicate=1-100+ext=.csv\")\n",
    "df8[\"k\"] = 8\n",
    "df16 = pd.read_csv(\"K16/concat=98+replicate=1-99+ext=.csv\")\n",
    "df16[\"k\"] = 16\n",
    "\n",
    "df = pd.concat([df2, df4, df8, df16])"
   ]
  },
  {
   "cell_type": "code",
   "execution_count": 3,
   "id": "f24230c0",
   "metadata": {},
   "outputs": [
    {
     "data": {
      "text/html": [
       "<div>\n",
       "<style scoped>\n",
       "    .dataframe tbody tr th:only-of-type {\n",
       "        vertical-align: middle;\n",
       "    }\n",
       "\n",
       "    .dataframe tbody tr th {\n",
       "        vertical-align: top;\n",
       "    }\n",
       "\n",
       "    .dataframe thead th {\n",
       "        text-align: right;\n",
       "    }\n",
       "</style>\n",
       "<table border=\"1\" class=\"dataframe\">\n",
       "  <thead>\n",
       "    <tr style=\"text-align: right;\">\n",
       "      <th></th>\n",
       "      <th>update</th>\n",
       "      <th>mean_fitness</th>\n",
       "      <th>min_fitness</th>\n",
       "      <th>max_fitness</th>\n",
       "      <th>inferiority</th>\n",
       "      <th>replicate</th>\n",
       "      <th>k</th>\n",
       "    </tr>\n",
       "  </thead>\n",
       "  <tbody>\n",
       "    <tr>\n",
       "      <th>0</th>\n",
       "      <td>0</td>\n",
       "      <td>46.316</td>\n",
       "      <td>0</td>\n",
       "      <td>256</td>\n",
       "      <td>0.180922</td>\n",
       "      <td>100</td>\n",
       "      <td>2</td>\n",
       "    </tr>\n",
       "    <tr>\n",
       "      <th>1</th>\n",
       "      <td>0</td>\n",
       "      <td>45.954</td>\n",
       "      <td>0</td>\n",
       "      <td>256</td>\n",
       "      <td>0.179508</td>\n",
       "      <td>10</td>\n",
       "      <td>2</td>\n",
       "    </tr>\n",
       "    <tr>\n",
       "      <th>2</th>\n",
       "      <td>0</td>\n",
       "      <td>47.909</td>\n",
       "      <td>0</td>\n",
       "      <td>256</td>\n",
       "      <td>0.187145</td>\n",
       "      <td>11</td>\n",
       "      <td>2</td>\n",
       "    </tr>\n",
       "    <tr>\n",
       "      <th>3</th>\n",
       "      <td>0</td>\n",
       "      <td>47.056</td>\n",
       "      <td>0</td>\n",
       "      <td>256</td>\n",
       "      <td>0.183812</td>\n",
       "      <td>12</td>\n",
       "      <td>2</td>\n",
       "    </tr>\n",
       "    <tr>\n",
       "      <th>4</th>\n",
       "      <td>0</td>\n",
       "      <td>47.067</td>\n",
       "      <td>0</td>\n",
       "      <td>256</td>\n",
       "      <td>0.183855</td>\n",
       "      <td>13</td>\n",
       "      <td>2</td>\n",
       "    </tr>\n",
       "    <tr>\n",
       "      <th>...</th>\n",
       "      <td>...</td>\n",
       "      <td>...</td>\n",
       "      <td>...</td>\n",
       "      <td>...</td>\n",
       "      <td>...</td>\n",
       "      <td>...</td>\n",
       "      <td>...</td>\n",
       "    </tr>\n",
       "    <tr>\n",
       "      <th>114780</th>\n",
       "      <td>746</td>\n",
       "      <td>236.540</td>\n",
       "      <td>22</td>\n",
       "      <td>240</td>\n",
       "      <td>0.985583</td>\n",
       "      <td>9</td>\n",
       "      <td>16</td>\n",
       "    </tr>\n",
       "    <tr>\n",
       "      <th>114781</th>\n",
       "      <td>747</td>\n",
       "      <td>236.052</td>\n",
       "      <td>16</td>\n",
       "      <td>240</td>\n",
       "      <td>0.983550</td>\n",
       "      <td>9</td>\n",
       "      <td>16</td>\n",
       "    </tr>\n",
       "    <tr>\n",
       "      <th>114782</th>\n",
       "      <td>748</td>\n",
       "      <td>235.774</td>\n",
       "      <td>19</td>\n",
       "      <td>240</td>\n",
       "      <td>0.982392</td>\n",
       "      <td>9</td>\n",
       "      <td>16</td>\n",
       "    </tr>\n",
       "    <tr>\n",
       "      <th>114783</th>\n",
       "      <td>749</td>\n",
       "      <td>236.171</td>\n",
       "      <td>22</td>\n",
       "      <td>240</td>\n",
       "      <td>0.984046</td>\n",
       "      <td>9</td>\n",
       "      <td>16</td>\n",
       "    </tr>\n",
       "    <tr>\n",
       "      <th>114784</th>\n",
       "      <td>750</td>\n",
       "      <td>236.124</td>\n",
       "      <td>16</td>\n",
       "      <td>256</td>\n",
       "      <td>0.922359</td>\n",
       "      <td>9</td>\n",
       "      <td>16</td>\n",
       "    </tr>\n",
       "  </tbody>\n",
       "</table>\n",
       "<p>155282 rows × 7 columns</p>\n",
       "</div>"
      ],
      "text/plain": [
       "        update  mean_fitness  min_fitness  max_fitness  inferiority  \\\n",
       "0            0        46.316            0          256     0.180922   \n",
       "1            0        45.954            0          256     0.179508   \n",
       "2            0        47.909            0          256     0.187145   \n",
       "3            0        47.056            0          256     0.183812   \n",
       "4            0        47.067            0          256     0.183855   \n",
       "...        ...           ...          ...          ...          ...   \n",
       "114780     746       236.540           22          240     0.985583   \n",
       "114781     747       236.052           16          240     0.983550   \n",
       "114782     748       235.774           19          240     0.982392   \n",
       "114783     749       236.171           22          240     0.984046   \n",
       "114784     750       236.124           16          256     0.922359   \n",
       "\n",
       "        replicate   k  \n",
       "0             100   2  \n",
       "1              10   2  \n",
       "2              11   2  \n",
       "3              12   2  \n",
       "4              13   2  \n",
       "...           ...  ..  \n",
       "114780          9  16  \n",
       "114781          9  16  \n",
       "114782          9  16  \n",
       "114783          9  16  \n",
       "114784          9  16  \n",
       "\n",
       "[155282 rows x 7 columns]"
      ]
     },
     "execution_count": 3,
     "metadata": {},
     "output_type": "execute_result"
    }
   ],
   "source": [
    "df"
   ]
  },
  {
   "cell_type": "code",
   "execution_count": 4,
   "id": "8f4e2eac",
   "metadata": {},
   "outputs": [
    {
     "data": {
      "text/html": [
       "<div>\n",
       "<style scoped>\n",
       "    .dataframe tbody tr th:only-of-type {\n",
       "        vertical-align: middle;\n",
       "    }\n",
       "\n",
       "    .dataframe tbody tr th {\n",
       "        vertical-align: top;\n",
       "    }\n",
       "\n",
       "    .dataframe thead th {\n",
       "        text-align: right;\n",
       "    }\n",
       "</style>\n",
       "<table border=\"1\" class=\"dataframe\">\n",
       "  <thead>\n",
       "    <tr style=\"text-align: right;\">\n",
       "      <th></th>\n",
       "      <th>update</th>\n",
       "      <th>mean_fitness</th>\n",
       "      <th>min_fitness</th>\n",
       "      <th>max_fitness</th>\n",
       "      <th>inferiority</th>\n",
       "      <th>replicate</th>\n",
       "      <th>k</th>\n",
       "    </tr>\n",
       "  </thead>\n",
       "  <tbody>\n",
       "    <tr>\n",
       "      <th>0</th>\n",
       "      <td>0</td>\n",
       "      <td>46.316</td>\n",
       "      <td>0.0</td>\n",
       "      <td>256</td>\n",
       "      <td>0.180922</td>\n",
       "      <td>100</td>\n",
       "      <td>2</td>\n",
       "    </tr>\n",
       "    <tr>\n",
       "      <th>1</th>\n",
       "      <td>0</td>\n",
       "      <td>45.954</td>\n",
       "      <td>0.0</td>\n",
       "      <td>256</td>\n",
       "      <td>0.179508</td>\n",
       "      <td>10</td>\n",
       "      <td>2</td>\n",
       "    </tr>\n",
       "    <tr>\n",
       "      <th>2</th>\n",
       "      <td>0</td>\n",
       "      <td>47.909</td>\n",
       "      <td>0.0</td>\n",
       "      <td>256</td>\n",
       "      <td>0.187145</td>\n",
       "      <td>11</td>\n",
       "      <td>2</td>\n",
       "    </tr>\n",
       "    <tr>\n",
       "      <th>3</th>\n",
       "      <td>0</td>\n",
       "      <td>47.056</td>\n",
       "      <td>0.0</td>\n",
       "      <td>256</td>\n",
       "      <td>0.183812</td>\n",
       "      <td>12</td>\n",
       "      <td>2</td>\n",
       "    </tr>\n",
       "    <tr>\n",
       "      <th>4</th>\n",
       "      <td>0</td>\n",
       "      <td>47.067</td>\n",
       "      <td>0.0</td>\n",
       "      <td>256</td>\n",
       "      <td>0.183855</td>\n",
       "      <td>13</td>\n",
       "      <td>2</td>\n",
       "    </tr>\n",
       "    <tr>\n",
       "      <th>...</th>\n",
       "      <td>...</td>\n",
       "      <td>...</td>\n",
       "      <td>...</td>\n",
       "      <td>...</td>\n",
       "      <td>...</td>\n",
       "      <td>...</td>\n",
       "      <td>...</td>\n",
       "    </tr>\n",
       "    <tr>\n",
       "      <th>3825111</th>\n",
       "      <td>9995</td>\n",
       "      <td>NaN</td>\n",
       "      <td>NaN</td>\n",
       "      <td>256</td>\n",
       "      <td>NaN</td>\n",
       "      <td>100</td>\n",
       "      <td>8</td>\n",
       "    </tr>\n",
       "    <tr>\n",
       "      <th>3825112</th>\n",
       "      <td>9996</td>\n",
       "      <td>NaN</td>\n",
       "      <td>NaN</td>\n",
       "      <td>256</td>\n",
       "      <td>NaN</td>\n",
       "      <td>100</td>\n",
       "      <td>8</td>\n",
       "    </tr>\n",
       "    <tr>\n",
       "      <th>3825113</th>\n",
       "      <td>9997</td>\n",
       "      <td>NaN</td>\n",
       "      <td>NaN</td>\n",
       "      <td>256</td>\n",
       "      <td>NaN</td>\n",
       "      <td>100</td>\n",
       "      <td>8</td>\n",
       "    </tr>\n",
       "    <tr>\n",
       "      <th>3825114</th>\n",
       "      <td>9998</td>\n",
       "      <td>NaN</td>\n",
       "      <td>NaN</td>\n",
       "      <td>256</td>\n",
       "      <td>NaN</td>\n",
       "      <td>100</td>\n",
       "      <td>8</td>\n",
       "    </tr>\n",
       "    <tr>\n",
       "      <th>3825115</th>\n",
       "      <td>9999</td>\n",
       "      <td>NaN</td>\n",
       "      <td>NaN</td>\n",
       "      <td>256</td>\n",
       "      <td>NaN</td>\n",
       "      <td>100</td>\n",
       "      <td>8</td>\n",
       "    </tr>\n",
       "  </tbody>\n",
       "</table>\n",
       "<p>3980398 rows × 7 columns</p>\n",
       "</div>"
      ],
      "text/plain": [
       "         update  mean_fitness  min_fitness  max_fitness  inferiority  \\\n",
       "0             0        46.316          0.0          256     0.180922   \n",
       "1             0        45.954          0.0          256     0.179508   \n",
       "2             0        47.909          0.0          256     0.187145   \n",
       "3             0        47.056          0.0          256     0.183812   \n",
       "4             0        47.067          0.0          256     0.183855   \n",
       "...         ...           ...          ...          ...          ...   \n",
       "3825111    9995           NaN          NaN          256          NaN   \n",
       "3825112    9996           NaN          NaN          256          NaN   \n",
       "3825113    9997           NaN          NaN          256          NaN   \n",
       "3825114    9998           NaN          NaN          256          NaN   \n",
       "3825115    9999           NaN          NaN          256          NaN   \n",
       "\n",
       "         replicate  k  \n",
       "0              100  2  \n",
       "1               10  2  \n",
       "2               11  2  \n",
       "3               12  2  \n",
       "4               13  2  \n",
       "...            ... ..  \n",
       "3825111        100  8  \n",
       "3825112        100  8  \n",
       "3825113        100  8  \n",
       "3825114        100  8  \n",
       "3825115        100  8  \n",
       "\n",
       "[3980398 rows x 7 columns]"
      ]
     },
     "execution_count": 4,
     "metadata": {},
     "output_type": "execute_result"
    }
   ],
   "source": [
    "new_rows = []\n",
    "for (replicate, k), filtered in df.groupby([\"replicate\", \"k\"]):    \n",
    "    max_update = filtered[\"update\"].max()\n",
    "\n",
    "    for update in range(max_update, 10000):\n",
    "        new_rows.append({\n",
    "            \"update\": update,\n",
    "            \"max_fitness\": 256,\n",
    "            \"replicate\": replicate,\n",
    "            \"k\": k\n",
    "        }) \n",
    "        \n",
    "df = df.append(new_rows)\n",
    "df"
   ]
  },
  {
   "cell_type": "code",
   "execution_count": 32,
   "id": "3d18f4cd",
   "metadata": {},
   "outputs": [
    {
     "data": {
      "text/plain": [
       "5675"
      ]
     },
     "execution_count": 32,
     "metadata": {},
     "output_type": "execute_result"
    }
   ],
   "source": [
    "data = df[np.log2(df[\"update\"]+1) % 1.0 < 0.0001]\n",
    "len(data)"
   ]
  },
  {
   "cell_type": "code",
   "execution_count": 33,
   "id": "f3dc2b7e",
   "metadata": {},
   "outputs": [
    {
     "data": {
      "image/png": "[encoded data removed]",
      "text/plain": [
       "<Figure size 432x288 with 1 Axes>"
      ]
     },
     "metadata": {
      "needs_background": "light"
     },
     "output_type": "display_data"
    }
   ],
   "source": [
    "g = sns.lineplot(\n",
    "    data=data,\n",
    "    x=\"update\",\n",
    "    y=\"max_fitness\",\n",
    "    hue=\"k\"\n",
    ")\n",
    "g.set_xscale(\"log\")"
   ]
  },
  {
   "cell_type": "code",
   "execution_count": 6,
   "id": "095a5629",
   "metadata": {},
   "outputs": [],
   "source": [
    "box_df = df[df[\"max_fitness\"] == 256]\n",
    "\n",
    "res_df = []\n",
    "for (replicate, k), filtered in box_df.groupby([\"replicate\", \"k\"]):\n",
    "    sol_time = filtered[\"update\"].min()\n",
    "    \n",
    "    res_df.append({\n",
    "        \"solution_time\": sol_time,\n",
    "        \"replicate\": replicate,\n",
    "        \"k\": k\n",
    "    })\n",
    "    \n",
    "res_df = df.from_records(res_df)"
   ]
  },
  {
   "cell_type": "code",
   "execution_count": 7,
   "id": "acb4c9ff",
   "metadata": {},
   "outputs": [
    {
     "data": {
      "text/plain": [
       "<AxesSubplot:xlabel='k', ylabel='solution_time'>"
      ]
     },
     "execution_count": 7,
     "metadata": {},
     "output_type": "execute_result"
    },
    {
     "data": {
      "image/png": "[encoded data removed]",
      "text/plain": [
       "<Figure size 432x288 with 1 Axes>"
      ]
     },
     "metadata": {
      "needs_background": "light"
     },
     "output_type": "display_data"
    }
   ],
   "source": [
    "sns.boxplot(data=res_df, y=\"solution_time\", x=\"k\")"
   ]
  },
  {
   "cell_type": "code",
   "execution_count": 37,
   "id": "e3591a29",
   "metadata": {},
   "outputs": [
    {
     "name": "stderr",
     "output_type": "stream",
     "text": [
      "/home/zasz/.local/lib/python3.9/site-packages/seaborn/categorical.py:1296: UserWarning: 85.0% of the points cannot be placed; you may want to decrease the size of the markers or use stripplot.\n",
      "  warnings.warn(msg, UserWarning)\n",
      "/home/zasz/.local/lib/python3.9/site-packages/seaborn/categorical.py:1296: UserWarning: 59.0% of the points cannot be placed; you may want to decrease the size of the markers or use stripplot.\n",
      "  warnings.warn(msg, UserWarning)\n",
      "/home/zasz/.local/lib/python3.9/site-packages/seaborn/categorical.py:1296: UserWarning: 11.0% of the points cannot be placed; you may want to decrease the size of the markers or use stripplot.\n",
      "  warnings.warn(msg, UserWarning)\n"
     ]
    },
    {
     "data": {
      "text/plain": [
       "<AxesSubplot:xlabel='k', ylabel='solution_time'>"
      ]
     },
     "execution_count": 37,
     "metadata": {},
     "output_type": "execute_result"
    },
    {
     "data": {
      "image/png": "[encoded data removed]",
      "text/plain": [
       "<Figure size 432x288 with 1 Axes>"
      ]
     },
     "metadata": {
      "needs_background": "light"
     },
     "output_type": "display_data"
    }
   ],
   "source": [
    "sns.swarmplot(\n",
    "    data=res_df,\n",
    "    edgecolor='white',\n",
    "    linewidth=0.5,\n",
    "    s=4,\n",
    "    x=\"k\",\n",
    "    y=\"solution_time\"\n",
    "    \n",
    ")\n",
    "sns.boxplot(\n",
    "    data=res_df,\n",
    "    x=\"k\",\n",
    "    y=\"solution_time\"\n",
    ")"
   ]
  },
  {
   "cell_type": "code",
   "execution_count": null,
   "id": "0e1a8e71",
   "metadata": {},
   "outputs": [],
   "source": []
  }
 ],
 "metadata": {
  "kernelspec": {
   "display_name": "Python 3",
   "language": "python",
   "name": "python3"
  },
  "language_info": {
   "codemirror_mode": {
    "name": "ipython",
    "version": 3
   },
   "file_extension": ".py",
   "mimetype": "text/x-python",
   "name": "python",
   "nbconvert_exporter": "python",
   "pygments_lexer": "ipython3",
   "version": "3.9.4"
  }
 },
 "nbformat": 4,
 "nbformat_minor": 5
}
