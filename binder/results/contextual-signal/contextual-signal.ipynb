{
 "cells": [
  {
   "cell_type": "code",
   "execution_count": null,
   "metadata": {},
   "outputs": [],
   "source": [
    "import matplotlib.pyplot as plt\n",
    "from nbmetalog import nbmetalog as nbm\n",
    "import numpy as np\n",
    "import pandas as pd\n",
    "import scipy.stats as stats\n",
    "import seaborn as sns\n",
    "from teeplot import teeplot as tp"
   ]
  },
  {
   "cell_type": "code",
   "execution_count": null,
   "metadata": {},
   "outputs": [],
   "source": [
    "nbm.print_metadata()"
   ]
  },
  {
   "cell_type": "markdown",
   "metadata": {},
   "source": [
    "# get data"
   ]
  },
  {
   "cell_type": "code",
   "execution_count": null,
   "metadata": {},
   "outputs": [],
   "source": [
    "reg = pd.read_csv(\"356848/regulation.csv\")\n",
    "no_reg = pd.read_csv(\"356848/no-regulation.csv\")\n",
    "nbm.print_dataframe_summary(*eval(nbm.nvp_expr(\n",
    "    'reg'\n",
    ")))\n",
    "nbm.print_dataframe_summary(*eval(nbm.nvp_expr(\n",
    "    'no_reg'\n",
    ")))\n",
    "\n",
    "reg['regulation'] = \"enabled\"\n",
    "no_reg['regulation'] = \"disabled\"\n",
    "\n",
    "df = pd.concat([reg, no_reg])\n",
    "nbm.print_dataframe_summary(*eval(nbm.nvp_expr(\n",
    "    'df'\n",
    ")))"
   ]
  },
  {
   "cell_type": "markdown",
   "metadata": {},
   "source": [
    "# define teeplot functions"
   ]
  },
  {
   "cell_type": "code",
   "execution_count": null,
   "metadata": {},
   "outputs": [],
   "source": [
    "def logx_lineplot(*args, **kwargs):\n",
    "    g = sns.lineplot(\n",
    "        *args,\n",
    "        **kwargs\n",
    "    )\n",
    "    g.set_xscale(\"log\")\n",
    "    plt.axhline(256, c=\"grey\", linestyle=\"dotted\", zorder=-1)\n",
    "    y = np.array([16*i for i in range(17)])\n",
    "    plt.yticks(y)\n",
    "    # todo: change names here"
   ]
  },
  {
   "cell_type": "markdown",
   "metadata": {},
   "source": [
    "# fitness over time"
   ]
  },
  {
   "cell_type": "markdown",
   "metadata": {},
   "source": [
    "## process data"
   ]
  },
  {
   "cell_type": "code",
   "execution_count": null,
   "metadata": {},
   "outputs": [],
   "source": [
    "\n",
    "'''\n",
    "new_rows = []\n",
    "for (replicate, regulation), filtered in df.groupby([\"replicate\", \"regulation\"]):\n",
    "    max_update = filtered[\"update\"].max()\n",
    "\n",
    "    for update in range(max_update, 10000):\n",
    "        new_rows.append({\n",
    "            \"update\": update,\n",
    "            \"max_fitness\": 16,\n",
    "            \"replicate\": replicate,\n",
    "            \"regulation\": regulation\n",
    "})\n",
    "\n",
    "df = df.append(new_rows)\n",
    "df\n",
    "'''"
   ]
  },
  {
   "cell_type": "markdown",
   "metadata": {},
   "source": [
    "## graph results (ci: SD)"
   ]
  },
  {
   "cell_type": "code",
   "execution_count": null,
   "metadata": {},
   "outputs": [],
   "source": [
    "tp.tee(\n",
    "    logx_lineplot,\n",
    "    data=df,\n",
    "    x=\"update\",\n",
    "    y=\"max_fitness\",\n",
    "    ci=\"sd\",\n",
    "    hue=\"regulation\"\n",
    ")"
   ]
  },
  {
   "cell_type": "markdown",
   "metadata": {},
   "source": [
    "## graph results (ci: 95%)"
   ]
  },
  {
   "cell_type": "code",
   "execution_count": null,
   "metadata": {},
   "outputs": [],
   "source": [
    "data = df[np.log2(df[\"update\"]+1) % 1.0 < 0.0001]\n",
    "len(data)"
   ]
  },
  {
   "cell_type": "code",
   "execution_count": null,
   "metadata": {},
   "outputs": [],
   "source": [
    "'''\n",
    "tp.tee(\n",
    "    logx_lineplot,\n",
    "    data=df,\n",
    "    x=\"update\",\n",
    "    y=\"max_fitness\",\n",
    "    hue=\"regulation\"\n",
    ")\n",
    "'''"
   ]
  },
  {
   "cell_type": "markdown",
   "metadata": {},
   "source": [
    "# time to solution over number of states (k)"
   ]
  },
  {
   "cell_type": "markdown",
   "metadata": {},
   "source": [
    "### process data"
   ]
  },
  {
   "cell_type": "code",
   "execution_count": null,
   "metadata": {},
   "outputs": [],
   "source": [
    "x = (df[\"max_fitness\"] != df[\"max_fitness\"].shift()).cumsum()\n",
    "for a, b in zip(x, df[\"max_fitness\"]):\n",
    "    print(a, b)"
   ]
  },
  {
   "cell_type": "code",
   "execution_count": null,
   "metadata": {},
   "outputs": [],
   "source": [
    "df = df.sort_values(by=[\"replicate\", \"regulation\", \"update\"])\n",
    "\n",
    "df[\"streak_length\"] = df.groupby(\n",
    "    (df[\"max_fitness\"] != df[\"max_fitness\"].shift()).cumsum()\n",
    ").cumcount() + 1"
   ]
  },
  {
   "cell_type": "code",
   "execution_count": null,
   "metadata": {},
   "outputs": [],
   "source": [
    "sns.lineplot(\n",
    "    data=df[(df[\"replicate\"] == 7) & (df[\"regulation\"] == 1)],\n",
    "    y=\"streak_length\",\n",
    "    x=\"update\",\n",
    "    ci=None,\n",
    "    hue=\"max_fitness\"\n",
    ")"
   ]
  },
  {
   "cell_type": "code",
   "execution_count": null,
   "metadata": {},
   "outputs": [],
   "source": [
    "box_df = df[(df[\"max_fitness\"] == 16)]\n",
    "\n",
    "res_df = []\n",
    "for (replicate, regulation), filtered in box_df.groupby([\"replicate\", \"regulation\"]):\n",
    "    sol_time = filtered[\"update\"].min()\n",
    "    print(replicate, sol_time, \"reg:\", regulation)\n",
    "    res_df.append({\n",
    "        \"solution_time\": sol_time,\n",
    "        \"replicate\": replicate,\n",
    "        \"regulation\": regulation\n",
    "    })\n",
    "\n",
    "all_pairs = {item for item, filtered in df.groupby([\"replicate\", \"regulation\"])}\n",
    "sol_pairs = {item for item, filtered in box_df.groupby([\"replicate\", \"regulation\"])}\n",
    "\n",
    "for (replicate, regulation) in all_pairs - sol_pairs:\n",
    "    sol_time = 10000\n",
    "    print(replicate, sol_time, \"reg:\", regulation)\n",
    "    res_df.append({\n",
    "        \"solution_time\": sol_time,\n",
    "        \"replicate\": replicate,\n",
    "        \"regulation\": regulation\n",
    "    })\n",
    "\n",
    "res_df = df.from_records(res_df)"
   ]
  },
  {
   "cell_type": "markdown",
   "metadata": {},
   "source": [
    "### graph"
   ]
  },
  {
   "cell_type": "code",
   "execution_count": null,
   "metadata": {},
   "outputs": [],
   "source": [
    "tp.tee(\n",
    "    sns.boxplot,\n",
    "    data=res_df,\n",
    "    y=\"solution_time\",\n",
    "    x=\"regulation\"\n",
    ")"
   ]
  },
  {
   "cell_type": "markdown",
   "metadata": {},
   "source": [
    "## time to solution (swarm plot)"
   ]
  },
  {
   "cell_type": "code",
   "execution_count": null,
   "metadata": {},
   "outputs": [],
   "source": [
    "def tee_swarmplot(*args, **kwargs):\n",
    "    sns.swarmplot(\n",
    "        linewidth=0.5,\n",
    "        s=4,\n",
    "        edgecolor='white',\n",
    "        *args,\n",
    "        **kwargs\n",
    "    )\n",
    "    sns.boxplot(\n",
    "        *args,\n",
    "        **kwargs\n",
    "    )"
   ]
  },
  {
   "cell_type": "code",
   "execution_count": null,
   "metadata": {},
   "outputs": [],
   "source": [
    "tp.tee(\n",
    "    tee_swarmplot,\n",
    "    data=res_df,\n",
    "    y=\"solution_time\",\n",
    "    x=\"regulation\"\n",
    ")"
   ]
  },
  {
   "cell_type": "code",
   "execution_count": null,
   "metadata": {},
   "outputs": [],
   "source": [
    "def tee_barswarm(*args, **kwargs):\n",
    "    sns.swarmplot(\n",
    "        linewidth=0.5,\n",
    "        s=4,\n",
    "        edgecolor='white',\n",
    "        *args,\n",
    "        **kwargs\n",
    "    )\n",
    "    sns.barplot(\n",
    "        capsize=0.4,\n",
    "        errwidth=2,\n",
    "        *args,\n",
    "        **kwargs\n",
    "    )"
   ]
  },
  {
   "cell_type": "code",
   "execution_count": null,
   "metadata": {},
   "outputs": [],
   "source": [
    "tp.tee(\n",
    "    tee_barswarm,\n",
    "    data=res_df,\n",
    "    y=\"solution_time\",\n",
    "    x=\"regulation\"\n",
    ")"
   ]
  }
 ],
 "metadata": {
  "kernelspec": {
   "display_name": "Python 3",
   "language": "python",
   "name": "python3"
  },
  "language_info": {
   "codemirror_mode": {
    "name": "ipython",
    "version": 3
   },
   "file_extension": ".py",
   "mimetype": "text/x-python",
   "name": "python",
   "nbconvert_exporter": "python",
   "pygments_lexer": "ipython3",
   "version": "3.9.5"
  }
 },
 "nbformat": 4,
 "nbformat_minor": 4
}
